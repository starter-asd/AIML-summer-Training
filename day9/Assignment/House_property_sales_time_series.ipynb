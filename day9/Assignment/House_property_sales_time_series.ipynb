{
  "nbformat": 4,
  "nbformat_minor": 0,
  "metadata": {
    "colab": {
      "name": "House_property_sales_time_series.ipynb",
      "provenance": [],
      "collapsed_sections": [],
      "include_colab_link": true
    },
    "kernelspec": {
      "name": "python3",
      "display_name": "Python 3"
    }
  },
  "cells": [
    {
      "cell_type": "markdown",
      "metadata": {
        "id": "view-in-github",
        "colab_type": "text"
      },
      "source": [
        "<a href=\"https://colab.research.google.com/github/ankitgurjarr/summer-training/blob/main/day9/Assignment/House_property_sales_time_series.ipynb\" target=\"_parent\"><img src=\"https://colab.research.google.com/assets/colab-badge.svg\" alt=\"Open In Colab\"/></a>"
      ]
    },
    {
      "cell_type": "markdown",
      "metadata": {
        "id": "xpAuMVCwfWs8"
      },
      "source": [
        "# Recurrent Neural Network"
      ]
    },
    {
      "cell_type": "markdown",
      "metadata": {
        "id": "nxJfRe4bfYVA"
      },
      "source": [
        "## Part 1 - Data Preprocessing"
      ]
    },
    {
      "cell_type": "markdown",
      "metadata": {
        "id": "ir9zwETrfbrp"
      },
      "source": [
        "### Importing the libraries"
      ]
    },
    {
      "cell_type": "code",
      "metadata": {
        "id": "ZT1f24vHffuf"
      },
      "source": [
        "import numpy as np\n",
        "import matplotlib.pyplot as plt\n",
        "import pandas as pd"
      ],
      "execution_count": null,
      "outputs": []
    },
    {
      "cell_type": "code",
      "source": [
        "!pip install unzip"
      ],
      "metadata": {
        "id": "8jnJYPTgr_v2",
        "outputId": "e1efd5a0-3fb2-41b1-dac5-1f526612e301",
        "colab": {
          "base_uri": "https://localhost:8080/"
        }
      },
      "execution_count": null,
      "outputs": [
        {
          "output_type": "stream",
          "name": "stdout",
          "text": [
            "Looking in indexes: https://pypi.org/simple, https://us-python.pkg.dev/colab-wheels/public/simple/\n",
            "Requirement already satisfied: unzip in /usr/local/lib/python3.7/dist-packages (1.0.0)\n"
          ]
        }
      ]
    },
    {
      "cell_type": "code",
      "source": [
        "!unzip /content/house_property_sales.csv.zip"
      ],
      "metadata": {
        "id": "Z2Hzn7R4uFof",
        "outputId": "5d2af8cc-6ddc-43f8-b7f6-73dded7c2ff1",
        "colab": {
          "base_uri": "https://localhost:8080/"
        }
      },
      "execution_count": null,
      "outputs": [
        {
          "output_type": "stream",
          "name": "stdout",
          "text": [
            "Archive:  /content/house_property_sales.csv.zip\n",
            "  inflating: raw_sales.csv           \n"
          ]
        }
      ]
    },
    {
      "cell_type": "code",
      "source": [
        ""
      ],
      "metadata": {
        "id": "Qtx-Qaeiu6ud"
      },
      "execution_count": null,
      "outputs": []
    },
    {
      "cell_type": "markdown",
      "metadata": {
        "id": "nQ47JAxrgmaL"
      },
      "source": [
        "### Importing the training set"
      ]
    },
    {
      "cell_type": "code",
      "metadata": {
        "id": "1xiv3pJOgqY3",
        "outputId": "e2cb6671-a653-4084-b5a6-db49aad5a660",
        "colab": {
          "base_uri": "https://localhost:8080/",
          "height": 206
        }
      },
      "source": [
        "dataset_train = pd.read_csv('/content/raw_sales.csv')\n",
        "training_set = dataset_train.iloc[:,2:3].values\n",
        "dataset_train.head()\n"
      ],
      "execution_count": null,
      "outputs": [
        {
          "output_type": "execute_result",
          "data": {
            "text/plain": [
              "              datesold  postcode   price propertyType  bedrooms\n",
              "0  2007-02-07 00:00:00      2607  525000        house         4\n",
              "1  2007-02-27 00:00:00      2906  290000        house         3\n",
              "2  2007-03-07 00:00:00      2905  328000        house         3\n",
              "3  2007-03-09 00:00:00      2905  380000        house         4\n",
              "4  2007-03-21 00:00:00      2906  310000        house         3"
            ],
            "text/html": [
              "\n",
              "  <div id=\"df-9fd22ee9-ad0f-4ceb-b568-ed6e2880448f\">\n",
              "    <div class=\"colab-df-container\">\n",
              "      <div>\n",
              "<style scoped>\n",
              "    .dataframe tbody tr th:only-of-type {\n",
              "        vertical-align: middle;\n",
              "    }\n",
              "\n",
              "    .dataframe tbody tr th {\n",
              "        vertical-align: top;\n",
              "    }\n",
              "\n",
              "    .dataframe thead th {\n",
              "        text-align: right;\n",
              "    }\n",
              "</style>\n",
              "<table border=\"1\" class=\"dataframe\">\n",
              "  <thead>\n",
              "    <tr style=\"text-align: right;\">\n",
              "      <th></th>\n",
              "      <th>datesold</th>\n",
              "      <th>postcode</th>\n",
              "      <th>price</th>\n",
              "      <th>propertyType</th>\n",
              "      <th>bedrooms</th>\n",
              "    </tr>\n",
              "  </thead>\n",
              "  <tbody>\n",
              "    <tr>\n",
              "      <th>0</th>\n",
              "      <td>2007-02-07 00:00:00</td>\n",
              "      <td>2607</td>\n",
              "      <td>525000</td>\n",
              "      <td>house</td>\n",
              "      <td>4</td>\n",
              "    </tr>\n",
              "    <tr>\n",
              "      <th>1</th>\n",
              "      <td>2007-02-27 00:00:00</td>\n",
              "      <td>2906</td>\n",
              "      <td>290000</td>\n",
              "      <td>house</td>\n",
              "      <td>3</td>\n",
              "    </tr>\n",
              "    <tr>\n",
              "      <th>2</th>\n",
              "      <td>2007-03-07 00:00:00</td>\n",
              "      <td>2905</td>\n",
              "      <td>328000</td>\n",
              "      <td>house</td>\n",
              "      <td>3</td>\n",
              "    </tr>\n",
              "    <tr>\n",
              "      <th>3</th>\n",
              "      <td>2007-03-09 00:00:00</td>\n",
              "      <td>2905</td>\n",
              "      <td>380000</td>\n",
              "      <td>house</td>\n",
              "      <td>4</td>\n",
              "    </tr>\n",
              "    <tr>\n",
              "      <th>4</th>\n",
              "      <td>2007-03-21 00:00:00</td>\n",
              "      <td>2906</td>\n",
              "      <td>310000</td>\n",
              "      <td>house</td>\n",
              "      <td>3</td>\n",
              "    </tr>\n",
              "  </tbody>\n",
              "</table>\n",
              "</div>\n",
              "      <button class=\"colab-df-convert\" onclick=\"convertToInteractive('df-9fd22ee9-ad0f-4ceb-b568-ed6e2880448f')\"\n",
              "              title=\"Convert this dataframe to an interactive table.\"\n",
              "              style=\"display:none;\">\n",
              "        \n",
              "  <svg xmlns=\"http://www.w3.org/2000/svg\" height=\"24px\"viewBox=\"0 0 24 24\"\n",
              "       width=\"24px\">\n",
              "    <path d=\"M0 0h24v24H0V0z\" fill=\"none\"/>\n",
              "    <path d=\"M18.56 5.44l.94 2.06.94-2.06 2.06-.94-2.06-.94-.94-2.06-.94 2.06-2.06.94zm-11 1L8.5 8.5l.94-2.06 2.06-.94-2.06-.94L8.5 2.5l-.94 2.06-2.06.94zm10 10l.94 2.06.94-2.06 2.06-.94-2.06-.94-.94-2.06-.94 2.06-2.06.94z\"/><path d=\"M17.41 7.96l-1.37-1.37c-.4-.4-.92-.59-1.43-.59-.52 0-1.04.2-1.43.59L10.3 9.45l-7.72 7.72c-.78.78-.78 2.05 0 2.83L4 21.41c.39.39.9.59 1.41.59.51 0 1.02-.2 1.41-.59l7.78-7.78 2.81-2.81c.8-.78.8-2.07 0-2.86zM5.41 20L4 18.59l7.72-7.72 1.47 1.35L5.41 20z\"/>\n",
              "  </svg>\n",
              "      </button>\n",
              "      \n",
              "  <style>\n",
              "    .colab-df-container {\n",
              "      display:flex;\n",
              "      flex-wrap:wrap;\n",
              "      gap: 12px;\n",
              "    }\n",
              "\n",
              "    .colab-df-convert {\n",
              "      background-color: #E8F0FE;\n",
              "      border: none;\n",
              "      border-radius: 50%;\n",
              "      cursor: pointer;\n",
              "      display: none;\n",
              "      fill: #1967D2;\n",
              "      height: 32px;\n",
              "      padding: 0 0 0 0;\n",
              "      width: 32px;\n",
              "    }\n",
              "\n",
              "    .colab-df-convert:hover {\n",
              "      background-color: #E2EBFA;\n",
              "      box-shadow: 0px 1px 2px rgba(60, 64, 67, 0.3), 0px 1px 3px 1px rgba(60, 64, 67, 0.15);\n",
              "      fill: #174EA6;\n",
              "    }\n",
              "\n",
              "    [theme=dark] .colab-df-convert {\n",
              "      background-color: #3B4455;\n",
              "      fill: #D2E3FC;\n",
              "    }\n",
              "\n",
              "    [theme=dark] .colab-df-convert:hover {\n",
              "      background-color: #434B5C;\n",
              "      box-shadow: 0px 1px 3px 1px rgba(0, 0, 0, 0.15);\n",
              "      filter: drop-shadow(0px 1px 2px rgba(0, 0, 0, 0.3));\n",
              "      fill: #FFFFFF;\n",
              "    }\n",
              "  </style>\n",
              "\n",
              "      <script>\n",
              "        const buttonEl =\n",
              "          document.querySelector('#df-9fd22ee9-ad0f-4ceb-b568-ed6e2880448f button.colab-df-convert');\n",
              "        buttonEl.style.display =\n",
              "          google.colab.kernel.accessAllowed ? 'block' : 'none';\n",
              "\n",
              "        async function convertToInteractive(key) {\n",
              "          const element = document.querySelector('#df-9fd22ee9-ad0f-4ceb-b568-ed6e2880448f');\n",
              "          const dataTable =\n",
              "            await google.colab.kernel.invokeFunction('convertToInteractive',\n",
              "                                                     [key], {});\n",
              "          if (!dataTable) return;\n",
              "\n",
              "          const docLinkHtml = 'Like what you see? Visit the ' +\n",
              "            '<a target=\"_blank\" href=https://colab.research.google.com/notebooks/data_table.ipynb>data table notebook</a>'\n",
              "            + ' to learn more about interactive tables.';\n",
              "          element.innerHTML = '';\n",
              "          dataTable['output_type'] = 'display_data';\n",
              "          await google.colab.output.renderOutput(dataTable, element);\n",
              "          const docLink = document.createElement('div');\n",
              "          docLink.innerHTML = docLinkHtml;\n",
              "          element.appendChild(docLink);\n",
              "        }\n",
              "      </script>\n",
              "    </div>\n",
              "  </div>\n",
              "  "
            ]
          },
          "metadata": {},
          "execution_count": 5
        }
      ]
    },
    {
      "cell_type": "markdown",
      "metadata": {
        "id": "HT8_2UJegtG5"
      },
      "source": [
        "### Feature Scaling"
      ]
    },
    {
      "cell_type": "code",
      "metadata": {
        "id": "OTrF2kR7gx9x"
      },
      "source": [
        "from sklearn.preprocessing import MinMaxScaler\n",
        "sc = MinMaxScaler(feature_range = (0, 1))\n",
        "training_set_scaled = sc.fit_transform(training_set)"
      ],
      "execution_count": null,
      "outputs": []
    },
    {
      "cell_type": "markdown",
      "metadata": {
        "id": "JyYgYocqhNUg"
      },
      "source": [
        "### Creating a data structure with 20 timesteps and 1 output"
      ]
    },
    {
      "cell_type": "code",
      "metadata": {
        "id": "iofU21B0i6ST"
      },
      "source": [
        "X_train = []\n",
        "y_train = []\n",
        "for i in range(20, 1258):\n",
        "    X_train.append(training_set_scaled[i-20:i, 0])\n",
        "    y_train.append(training_set_scaled[i, 0])\n",
        "X_train, y_train = np.array(X_train), np.array(y_train)"
      ],
      "execution_count": null,
      "outputs": []
    },
    {
      "cell_type": "markdown",
      "metadata": {
        "id": "D8yaN7Zvi95l"
      },
      "source": [
        "### Reshaping"
      ]
    },
    {
      "cell_type": "code",
      "metadata": {
        "id": "FOXqJHmNjBkz"
      },
      "source": [
        "X_train = np.reshape(X_train, (X_train.shape[0], X_train.shape[1], 1))"
      ],
      "execution_count": null,
      "outputs": []
    },
    {
      "cell_type": "markdown",
      "metadata": {
        "id": "ZRRSOJeVjEWV"
      },
      "source": [
        "## Part 2 - Building and Training the RNN"
      ]
    },
    {
      "cell_type": "markdown",
      "metadata": {
        "id": "k4XV88JMjHXG"
      },
      "source": [
        "### Importing the Keras libraries and packages"
      ]
    },
    {
      "cell_type": "code",
      "metadata": {
        "id": "9JRnqsxEjKsD"
      },
      "source": [
        "from keras.models import Sequential\n",
        "from keras.layers import Dense\n",
        "from keras.layers import LSTM\n",
        "from keras.layers import Dropout"
      ],
      "execution_count": null,
      "outputs": []
    },
    {
      "cell_type": "markdown",
      "metadata": {
        "id": "FEIE-1s9jNzC"
      },
      "source": [
        "### Initialising the RNN"
      ]
    },
    {
      "cell_type": "code",
      "metadata": {
        "id": "1338dJ0UjRKH"
      },
      "source": [
        "regressor = Sequential()"
      ],
      "execution_count": null,
      "outputs": []
    },
    {
      "cell_type": "markdown",
      "metadata": {
        "id": "62eg1OPGjT8z"
      },
      "source": [
        "### Adding the first LSTM layer and some Dropout regularisation"
      ]
    },
    {
      "cell_type": "code",
      "metadata": {
        "id": "2hIinyXUjbVU"
      },
      "source": [
        "regressor.add(LSTM(units = 50, return_sequences = True, input_shape = (X_train.shape[1], 1)))\n",
        "regressor.add(Dropout(0.2))"
      ],
      "execution_count": null,
      "outputs": []
    },
    {
      "cell_type": "markdown",
      "metadata": {
        "id": "3XBIYLyOjlMx"
      },
      "source": [
        "### Adding a second LSTM layer and some Dropout regularisation"
      ]
    },
    {
      "cell_type": "code",
      "metadata": {
        "id": "UG7nrVaSjuZ2"
      },
      "source": [
        "regressor.add(LSTM(units = 50, return_sequences = True))\n",
        "regressor.add(Dropout(0.2))"
      ],
      "execution_count": null,
      "outputs": []
    },
    {
      "cell_type": "markdown",
      "metadata": {
        "id": "Ey3fHVnGj1cu"
      },
      "source": [
        "### Adding a third LSTM layer and some Dropout regularisation"
      ]
    },
    {
      "cell_type": "code",
      "metadata": {
        "id": "PuNi6PgFj7jO"
      },
      "source": [
        "regressor.add(LSTM(units = 50, return_sequences = True))\n",
        "regressor.add(Dropout(0.2))"
      ],
      "execution_count": null,
      "outputs": []
    },
    {
      "cell_type": "markdown",
      "metadata": {
        "id": "SYTrtfTmj933"
      },
      "source": [
        "### Adding a fourth LSTM layer and some Dropout regularisation"
      ]
    },
    {
      "cell_type": "code",
      "metadata": {
        "id": "Jp4Ty8fRkBYV"
      },
      "source": [
        "regressor.add(LSTM(units = 50))\n",
        "regressor.add(Dropout(0.2))"
      ],
      "execution_count": null,
      "outputs": []
    },
    {
      "cell_type": "markdown",
      "metadata": {
        "id": "9ABI6rOIkHhk"
      },
      "source": [
        "### Adding the output layer"
      ]
    },
    {
      "cell_type": "code",
      "metadata": {
        "id": "aM6R1z4WkME8"
      },
      "source": [
        "regressor.add(Dense(units = 1))"
      ],
      "execution_count": null,
      "outputs": []
    },
    {
      "cell_type": "markdown",
      "metadata": {
        "id": "zLx4K7uUkPSh"
      },
      "source": [
        "### Compiling the RNN"
      ]
    },
    {
      "cell_type": "code",
      "metadata": {
        "id": "XTrhVN-tkbko"
      },
      "source": [
        "regressor.compile(optimizer = 'adam', loss = 'mean_squared_error')"
      ],
      "execution_count": null,
      "outputs": []
    },
    {
      "cell_type": "markdown",
      "metadata": {
        "id": "-mPhwKGkkebi"
      },
      "source": [
        "### Fitting the RNN to the Training set"
      ]
    },
    {
      "cell_type": "code",
      "metadata": {
        "id": "I06Nkrz5kkb-",
        "colab": {
          "base_uri": "https://localhost:8080/"
        },
        "outputId": "cf5beb7d-7f08-4c69-de24-81a4541b781b"
      },
      "source": [
        "regressor.fit(X_train, y_train, epochs = 100, batch_size = 32)"
      ],
      "execution_count": null,
      "outputs": [
        {
          "output_type": "stream",
          "name": "stdout",
          "text": [
            "Epoch 1/100\n",
            "39/39 [==============================] - 11s 56ms/step - loss: 9.6099e-04\n",
            "Epoch 2/100\n",
            "39/39 [==============================] - 2s 55ms/step - loss: 7.5579e-04\n",
            "Epoch 3/100\n",
            "39/39 [==============================] - 2s 53ms/step - loss: 7.2612e-04\n",
            "Epoch 4/100\n",
            "39/39 [==============================] - 2s 52ms/step - loss: 7.4710e-04\n",
            "Epoch 5/100\n",
            "39/39 [==============================] - 2s 52ms/step - loss: 7.4750e-04\n",
            "Epoch 6/100\n",
            "39/39 [==============================] - 2s 56ms/step - loss: 7.2918e-04\n",
            "Epoch 7/100\n",
            "39/39 [==============================] - 2s 53ms/step - loss: 7.3897e-04\n",
            "Epoch 8/100\n",
            "39/39 [==============================] - 2s 54ms/step - loss: 7.2111e-04\n",
            "Epoch 9/100\n",
            "39/39 [==============================] - 2s 55ms/step - loss: 7.2947e-04\n",
            "Epoch 10/100\n",
            "39/39 [==============================] - 2s 53ms/step - loss: 7.6109e-04\n",
            "Epoch 11/100\n",
            "39/39 [==============================] - 2s 55ms/step - loss: 7.3883e-04\n",
            "Epoch 12/100\n",
            "39/39 [==============================] - 2s 53ms/step - loss: 7.2737e-04\n",
            "Epoch 13/100\n",
            "39/39 [==============================] - 2s 53ms/step - loss: 7.1215e-04\n",
            "Epoch 14/100\n",
            "39/39 [==============================] - 2s 53ms/step - loss: 7.1930e-04\n",
            "Epoch 15/100\n",
            "39/39 [==============================] - 2s 53ms/step - loss: 7.3265e-04\n",
            "Epoch 16/100\n",
            "39/39 [==============================] - 2s 54ms/step - loss: 7.1636e-04\n",
            "Epoch 17/100\n",
            "39/39 [==============================] - 2s 53ms/step - loss: 7.2654e-04\n",
            "Epoch 18/100\n",
            "39/39 [==============================] - 2s 52ms/step - loss: 7.2142e-04\n",
            "Epoch 19/100\n",
            "39/39 [==============================] - 2s 54ms/step - loss: 7.3881e-04\n",
            "Epoch 20/100\n",
            "39/39 [==============================] - 2s 51ms/step - loss: 7.2456e-04\n",
            "Epoch 21/100\n",
            "39/39 [==============================] - 2s 54ms/step - loss: 7.2393e-04\n",
            "Epoch 22/100\n",
            "39/39 [==============================] - 3s 69ms/step - loss: 7.2292e-04\n",
            "Epoch 23/100\n",
            "39/39 [==============================] - 2s 52ms/step - loss: 7.2937e-04\n",
            "Epoch 24/100\n",
            "39/39 [==============================] - 3s 72ms/step - loss: 7.1783e-04\n",
            "Epoch 25/100\n",
            "39/39 [==============================] - 2s 54ms/step - loss: 7.1742e-04\n",
            "Epoch 26/100\n",
            "39/39 [==============================] - 2s 53ms/step - loss: 7.2599e-04\n",
            "Epoch 27/100\n",
            "39/39 [==============================] - 2s 53ms/step - loss: 7.2123e-04\n",
            "Epoch 28/100\n",
            "39/39 [==============================] - 2s 55ms/step - loss: 7.1806e-04\n",
            "Epoch 29/100\n",
            "39/39 [==============================] - 2s 52ms/step - loss: 7.1662e-04\n",
            "Epoch 30/100\n",
            "39/39 [==============================] - 2s 52ms/step - loss: 7.2491e-04\n",
            "Epoch 31/100\n",
            "39/39 [==============================] - 2s 55ms/step - loss: 7.1624e-04\n",
            "Epoch 32/100\n",
            "39/39 [==============================] - 2s 52ms/step - loss: 7.1506e-04\n",
            "Epoch 33/100\n",
            "39/39 [==============================] - 2s 51ms/step - loss: 7.0787e-04\n",
            "Epoch 34/100\n",
            "39/39 [==============================] - 2s 53ms/step - loss: 7.2023e-04\n",
            "Epoch 35/100\n",
            "39/39 [==============================] - 2s 55ms/step - loss: 7.1626e-04\n",
            "Epoch 36/100\n",
            "39/39 [==============================] - 2s 54ms/step - loss: 7.2799e-04\n",
            "Epoch 37/100\n",
            "39/39 [==============================] - 2s 52ms/step - loss: 7.1314e-04\n",
            "Epoch 38/100\n",
            "39/39 [==============================] - 2s 51ms/step - loss: 7.2444e-04\n",
            "Epoch 39/100\n",
            "39/39 [==============================] - 2s 53ms/step - loss: 7.1137e-04\n",
            "Epoch 40/100\n",
            "39/39 [==============================] - 2s 53ms/step - loss: 7.2086e-04\n",
            "Epoch 41/100\n",
            "39/39 [==============================] - 2s 53ms/step - loss: 7.1400e-04\n",
            "Epoch 42/100\n",
            "39/39 [==============================] - 2s 53ms/step - loss: 7.1209e-04\n",
            "Epoch 43/100\n",
            "39/39 [==============================] - 2s 53ms/step - loss: 7.1686e-04\n",
            "Epoch 44/100\n",
            "39/39 [==============================] - 2s 53ms/step - loss: 7.1262e-04\n",
            "Epoch 45/100\n",
            "39/39 [==============================] - 2s 53ms/step - loss: 7.1663e-04\n",
            "Epoch 46/100\n",
            "39/39 [==============================] - 2s 53ms/step - loss: 7.2235e-04\n",
            "Epoch 47/100\n",
            "39/39 [==============================] - 2s 55ms/step - loss: 7.1052e-04\n",
            "Epoch 48/100\n",
            "39/39 [==============================] - 2s 53ms/step - loss: 7.1246e-04\n",
            "Epoch 49/100\n",
            "39/39 [==============================] - 2s 53ms/step - loss: 7.1453e-04\n",
            "Epoch 50/100\n",
            "39/39 [==============================] - 2s 53ms/step - loss: 7.1022e-04\n",
            "Epoch 51/100\n",
            "39/39 [==============================] - 2s 55ms/step - loss: 7.1540e-04\n",
            "Epoch 52/100\n",
            "39/39 [==============================] - 2s 53ms/step - loss: 7.1569e-04\n",
            "Epoch 53/100\n",
            "39/39 [==============================] - 2s 54ms/step - loss: 7.0965e-04\n",
            "Epoch 54/100\n",
            "39/39 [==============================] - 2s 53ms/step - loss: 7.0594e-04\n",
            "Epoch 55/100\n",
            "39/39 [==============================] - 2s 53ms/step - loss: 7.1624e-04\n",
            "Epoch 56/100\n",
            "39/39 [==============================] - 2s 55ms/step - loss: 7.1082e-04\n",
            "Epoch 57/100\n",
            "39/39 [==============================] - 2s 54ms/step - loss: 7.1014e-04\n",
            "Epoch 58/100\n",
            "39/39 [==============================] - 2s 55ms/step - loss: 7.0832e-04\n",
            "Epoch 59/100\n",
            "39/39 [==============================] - 2s 54ms/step - loss: 7.1290e-04\n",
            "Epoch 60/100\n",
            "39/39 [==============================] - 2s 56ms/step - loss: 7.1528e-04\n",
            "Epoch 61/100\n",
            "39/39 [==============================] - 2s 56ms/step - loss: 7.1633e-04\n",
            "Epoch 62/100\n",
            "39/39 [==============================] - 2s 54ms/step - loss: 7.0855e-04\n",
            "Epoch 63/100\n",
            "39/39 [==============================] - 2s 54ms/step - loss: 7.1105e-04\n",
            "Epoch 64/100\n",
            "39/39 [==============================] - 2s 53ms/step - loss: 7.1401e-04\n",
            "Epoch 65/100\n",
            "39/39 [==============================] - 2s 54ms/step - loss: 7.1392e-04\n",
            "Epoch 66/100\n",
            "39/39 [==============================] - 2s 54ms/step - loss: 7.1798e-04\n",
            "Epoch 67/100\n",
            "39/39 [==============================] - 2s 53ms/step - loss: 7.0873e-04\n",
            "Epoch 68/100\n",
            "39/39 [==============================] - 2s 54ms/step - loss: 7.0822e-04\n",
            "Epoch 69/100\n",
            "39/39 [==============================] - 2s 55ms/step - loss: 7.1981e-04\n",
            "Epoch 70/100\n",
            "39/39 [==============================] - 2s 54ms/step - loss: 7.1275e-04\n",
            "Epoch 71/100\n",
            "39/39 [==============================] - 3s 74ms/step - loss: 7.1577e-04\n",
            "Epoch 72/100\n",
            "39/39 [==============================] - 2s 55ms/step - loss: 7.1983e-04\n",
            "Epoch 73/100\n",
            "39/39 [==============================] - 2s 54ms/step - loss: 7.1700e-04\n",
            "Epoch 74/100\n",
            "39/39 [==============================] - 2s 54ms/step - loss: 7.1210e-04\n",
            "Epoch 75/100\n",
            "39/39 [==============================] - 2s 56ms/step - loss: 7.1139e-04\n",
            "Epoch 76/100\n",
            "39/39 [==============================] - 2s 54ms/step - loss: 7.1430e-04\n",
            "Epoch 77/100\n",
            "39/39 [==============================] - 2s 53ms/step - loss: 7.1774e-04\n",
            "Epoch 78/100\n",
            "39/39 [==============================] - 2s 54ms/step - loss: 7.1040e-04\n",
            "Epoch 79/100\n",
            "39/39 [==============================] - 2s 55ms/step - loss: 7.1215e-04\n",
            "Epoch 80/100\n",
            "39/39 [==============================] - 2s 53ms/step - loss: 7.1132e-04\n",
            "Epoch 81/100\n",
            "39/39 [==============================] - 2s 55ms/step - loss: 7.1099e-04\n",
            "Epoch 82/100\n",
            "39/39 [==============================] - 2s 53ms/step - loss: 7.1125e-04\n",
            "Epoch 83/100\n",
            "39/39 [==============================] - 2s 55ms/step - loss: 7.0808e-04\n",
            "Epoch 84/100\n",
            "39/39 [==============================] - 2s 55ms/step - loss: 7.1235e-04\n",
            "Epoch 85/100\n",
            "39/39 [==============================] - 2s 55ms/step - loss: 7.1301e-04\n",
            "Epoch 86/100\n",
            "39/39 [==============================] - 2s 55ms/step - loss: 7.1404e-04\n",
            "Epoch 87/100\n",
            "39/39 [==============================] - 2s 53ms/step - loss: 7.0812e-04\n",
            "Epoch 88/100\n",
            "39/39 [==============================] - 2s 55ms/step - loss: 7.1382e-04\n",
            "Epoch 89/100\n",
            "39/39 [==============================] - 2s 54ms/step - loss: 7.0912e-04\n",
            "Epoch 90/100\n",
            "39/39 [==============================] - 2s 54ms/step - loss: 7.0943e-04\n",
            "Epoch 91/100\n",
            "39/39 [==============================] - 2s 55ms/step - loss: 7.1169e-04\n",
            "Epoch 92/100\n",
            "39/39 [==============================] - 2s 54ms/step - loss: 7.0862e-04\n",
            "Epoch 93/100\n",
            "39/39 [==============================] - 2s 54ms/step - loss: 7.1079e-04\n",
            "Epoch 94/100\n",
            "39/39 [==============================] - 2s 54ms/step - loss: 7.0690e-04\n",
            "Epoch 95/100\n",
            "39/39 [==============================] - 2s 55ms/step - loss: 7.1574e-04\n",
            "Epoch 96/100\n",
            "39/39 [==============================] - 2s 56ms/step - loss: 7.1103e-04\n",
            "Epoch 97/100\n",
            "39/39 [==============================] - 2s 54ms/step - loss: 7.1063e-04\n",
            "Epoch 98/100\n",
            "39/39 [==============================] - 2s 54ms/step - loss: 7.0644e-04\n",
            "Epoch 99/100\n",
            "39/39 [==============================] - 2s 54ms/step - loss: 7.1754e-04\n",
            "Epoch 100/100\n",
            "39/39 [==============================] - 2s 54ms/step - loss: 7.0861e-04\n"
          ]
        },
        {
          "output_type": "execute_result",
          "data": {
            "text/plain": [
              "<keras.callbacks.History at 0x7ff9421cf190>"
            ]
          },
          "metadata": {},
          "execution_count": 17
        }
      ]
    },
    {
      "cell_type": "markdown",
      "metadata": {
        "id": "4hRau_lIkrE8"
      },
      "source": [
        "## Part 3 - Making the predictions and visualising the results"
      ]
    },
    {
      "cell_type": "markdown",
      "metadata": {
        "id": "SgJO6qEDksxD"
      },
      "source": [
        "### Getting the real House property sales"
      ]
    },
    {
      "cell_type": "code",
      "metadata": {
        "id": "FmBT2zqukxTz",
        "outputId": "5eb587eb-7925-4544-e91f-34eb74f3561f",
        "colab": {
          "base_uri": "https://localhost:8080/",
          "height": 206
        }
      },
      "source": [
        "dataset_test = pd.read_csv('/content/ma_lga_12345.csv')\n",
        "real_property_sales = dataset_test.iloc[:, 1:2].values\n",
        "dataset_test.head()"
      ],
      "execution_count": null,
      "outputs": [
        {
          "output_type": "execute_result",
          "data": {
            "text/plain": [
              "     saledate      MA   type  bedrooms\n",
              "0  30/09/2007  441854  house         2\n",
              "1  31/12/2007  441854  house         2\n",
              "2  31/03/2008  441854  house         2\n",
              "3  30/06/2008  441854  house         2\n",
              "4  30/09/2008  451583  house         2"
            ],
            "text/html": [
              "\n",
              "  <div id=\"df-23733349-6932-4591-bfde-90050108d66a\">\n",
              "    <div class=\"colab-df-container\">\n",
              "      <div>\n",
              "<style scoped>\n",
              "    .dataframe tbody tr th:only-of-type {\n",
              "        vertical-align: middle;\n",
              "    }\n",
              "\n",
              "    .dataframe tbody tr th {\n",
              "        vertical-align: top;\n",
              "    }\n",
              "\n",
              "    .dataframe thead th {\n",
              "        text-align: right;\n",
              "    }\n",
              "</style>\n",
              "<table border=\"1\" class=\"dataframe\">\n",
              "  <thead>\n",
              "    <tr style=\"text-align: right;\">\n",
              "      <th></th>\n",
              "      <th>saledate</th>\n",
              "      <th>MA</th>\n",
              "      <th>type</th>\n",
              "      <th>bedrooms</th>\n",
              "    </tr>\n",
              "  </thead>\n",
              "  <tbody>\n",
              "    <tr>\n",
              "      <th>0</th>\n",
              "      <td>30/09/2007</td>\n",
              "      <td>441854</td>\n",
              "      <td>house</td>\n",
              "      <td>2</td>\n",
              "    </tr>\n",
              "    <tr>\n",
              "      <th>1</th>\n",
              "      <td>31/12/2007</td>\n",
              "      <td>441854</td>\n",
              "      <td>house</td>\n",
              "      <td>2</td>\n",
              "    </tr>\n",
              "    <tr>\n",
              "      <th>2</th>\n",
              "      <td>31/03/2008</td>\n",
              "      <td>441854</td>\n",
              "      <td>house</td>\n",
              "      <td>2</td>\n",
              "    </tr>\n",
              "    <tr>\n",
              "      <th>3</th>\n",
              "      <td>30/06/2008</td>\n",
              "      <td>441854</td>\n",
              "      <td>house</td>\n",
              "      <td>2</td>\n",
              "    </tr>\n",
              "    <tr>\n",
              "      <th>4</th>\n",
              "      <td>30/09/2008</td>\n",
              "      <td>451583</td>\n",
              "      <td>house</td>\n",
              "      <td>2</td>\n",
              "    </tr>\n",
              "  </tbody>\n",
              "</table>\n",
              "</div>\n",
              "      <button class=\"colab-df-convert\" onclick=\"convertToInteractive('df-23733349-6932-4591-bfde-90050108d66a')\"\n",
              "              title=\"Convert this dataframe to an interactive table.\"\n",
              "              style=\"display:none;\">\n",
              "        \n",
              "  <svg xmlns=\"http://www.w3.org/2000/svg\" height=\"24px\"viewBox=\"0 0 24 24\"\n",
              "       width=\"24px\">\n",
              "    <path d=\"M0 0h24v24H0V0z\" fill=\"none\"/>\n",
              "    <path d=\"M18.56 5.44l.94 2.06.94-2.06 2.06-.94-2.06-.94-.94-2.06-.94 2.06-2.06.94zm-11 1L8.5 8.5l.94-2.06 2.06-.94-2.06-.94L8.5 2.5l-.94 2.06-2.06.94zm10 10l.94 2.06.94-2.06 2.06-.94-2.06-.94-.94-2.06-.94 2.06-2.06.94z\"/><path d=\"M17.41 7.96l-1.37-1.37c-.4-.4-.92-.59-1.43-.59-.52 0-1.04.2-1.43.59L10.3 9.45l-7.72 7.72c-.78.78-.78 2.05 0 2.83L4 21.41c.39.39.9.59 1.41.59.51 0 1.02-.2 1.41-.59l7.78-7.78 2.81-2.81c.8-.78.8-2.07 0-2.86zM5.41 20L4 18.59l7.72-7.72 1.47 1.35L5.41 20z\"/>\n",
              "  </svg>\n",
              "      </button>\n",
              "      \n",
              "  <style>\n",
              "    .colab-df-container {\n",
              "      display:flex;\n",
              "      flex-wrap:wrap;\n",
              "      gap: 12px;\n",
              "    }\n",
              "\n",
              "    .colab-df-convert {\n",
              "      background-color: #E8F0FE;\n",
              "      border: none;\n",
              "      border-radius: 50%;\n",
              "      cursor: pointer;\n",
              "      display: none;\n",
              "      fill: #1967D2;\n",
              "      height: 32px;\n",
              "      padding: 0 0 0 0;\n",
              "      width: 32px;\n",
              "    }\n",
              "\n",
              "    .colab-df-convert:hover {\n",
              "      background-color: #E2EBFA;\n",
              "      box-shadow: 0px 1px 2px rgba(60, 64, 67, 0.3), 0px 1px 3px 1px rgba(60, 64, 67, 0.15);\n",
              "      fill: #174EA6;\n",
              "    }\n",
              "\n",
              "    [theme=dark] .colab-df-convert {\n",
              "      background-color: #3B4455;\n",
              "      fill: #D2E3FC;\n",
              "    }\n",
              "\n",
              "    [theme=dark] .colab-df-convert:hover {\n",
              "      background-color: #434B5C;\n",
              "      box-shadow: 0px 1px 3px 1px rgba(0, 0, 0, 0.15);\n",
              "      filter: drop-shadow(0px 1px 2px rgba(0, 0, 0, 0.3));\n",
              "      fill: #FFFFFF;\n",
              "    }\n",
              "  </style>\n",
              "\n",
              "      <script>\n",
              "        const buttonEl =\n",
              "          document.querySelector('#df-23733349-6932-4591-bfde-90050108d66a button.colab-df-convert');\n",
              "        buttonEl.style.display =\n",
              "          google.colab.kernel.accessAllowed ? 'block' : 'none';\n",
              "\n",
              "        async function convertToInteractive(key) {\n",
              "          const element = document.querySelector('#df-23733349-6932-4591-bfde-90050108d66a');\n",
              "          const dataTable =\n",
              "            await google.colab.kernel.invokeFunction('convertToInteractive',\n",
              "                                                     [key], {});\n",
              "          if (!dataTable) return;\n",
              "\n",
              "          const docLinkHtml = 'Like what you see? Visit the ' +\n",
              "            '<a target=\"_blank\" href=https://colab.research.google.com/notebooks/data_table.ipynb>data table notebook</a>'\n",
              "            + ' to learn more about interactive tables.';\n",
              "          element.innerHTML = '';\n",
              "          dataTable['output_type'] = 'display_data';\n",
              "          await google.colab.output.renderOutput(dataTable, element);\n",
              "          const docLink = document.createElement('div');\n",
              "          docLink.innerHTML = docLinkHtml;\n",
              "          element.appendChild(docLink);\n",
              "        }\n",
              "      </script>\n",
              "    </div>\n",
              "  </div>\n",
              "  "
            ]
          },
          "metadata": {},
          "execution_count": 25
        }
      ]
    },
    {
      "cell_type": "markdown",
      "metadata": {
        "id": "GrvrLblxkz42"
      },
      "source": [
        "### Getting the predicted House property sales"
      ]
    },
    {
      "cell_type": "code",
      "metadata": {
        "id": "emikTvUpk3Ck"
      },
      "source": [
        "dataset_total = pd.concat((dataset_train['price'], dataset_test['MA']), axis = 0)\n",
        "inputs = dataset_total[len(dataset_total) - len(dataset_test) - 20:].values\n",
        "inputs = inputs.reshape(-1,1)\n",
        "inputs = sc.transform(inputs)\n",
        "X_test = []\n",
        "for i in range(20, 80):\n",
        "    X_test.append(inputs[i-20:i, 0])\n",
        "X_test = np.array(X_test)\n",
        "X_test = np.reshape(X_test, (X_test.shape[0], X_test.shape[1], 1))\n",
        "predicted_property_sales = regressor.predict(X_test)\n",
        "predicted_property_sales = sc.inverse_transform(predicted_property_sales)"
      ],
      "execution_count": null,
      "outputs": []
    },
    {
      "cell_type": "markdown",
      "metadata": {
        "id": "iFTNs3YHk6FQ"
      },
      "source": [
        "### Visualising the results"
      ]
    },
    {
      "cell_type": "code",
      "metadata": {
        "id": "8OUI8U49k9tH",
        "colab": {
          "base_uri": "https://localhost:8080/",
          "height": 295
        },
        "outputId": "c97477f2-8a9e-4375-f52d-ab7b5d1d0ffa"
      },
      "source": [
        "plt.plot(real_property_sales, color = 'red', label = 'Real House property sales')\n",
        "plt.plot(predicted_property_sales, color = 'blue', label = 'Predicted House property sales ')\n",
        "plt.title('House property sales Prediction')\n",
        "plt.xlabel('Time')\n",
        "plt.ylabel('House property sales')\n",
        "plt.legend()\n",
        "plt.show()"
      ],
      "execution_count": null,
      "outputs": [
        {
          "output_type": "display_data",
          "data": {
            "text/plain": [
              "<Figure size 432x288 with 1 Axes>"
            ],
            "image/png": "[encoded data removed]"
          },
          "metadata": {
            "needs_background": "light"
          }
        }
      ]
    },
    {
      "cell_type": "code",
      "source": [
        ""
      ],
      "metadata": {
        "id": "3KJwH_xH8V2h"
      },
      "execution_count": null,
      "outputs": []
    }
  ]
}