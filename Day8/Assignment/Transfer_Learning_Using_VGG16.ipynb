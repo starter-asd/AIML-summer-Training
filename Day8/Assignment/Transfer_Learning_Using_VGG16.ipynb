{
  "cells": [
    {
      "cell_type": "markdown",
      "metadata": {
        "id": "view-in-github",
        "colab_type": "text"
      },
      "source": [
        "<a href=\"https://colab.research.google.com/github/ankitgurjarr/summer-training/blob/main/Day8/Assignment/Transfer_Learning_Using_VGG16.ipynb\" target=\"_parent\"><img src=\"https://colab.research.google.com/assets/colab-badge.svg\" alt=\"Open In Colab\"/></a>"
      ]
    },
    {
      "cell_type": "code",
      "execution_count": null,
      "metadata": {
        "id": "f4wUfDc3-tr1"
      },
      "outputs": [],
      "source": [
        "from keras.layers import Input, Lambda, Dense, Flatten\n",
        "from keras.models import Model\n",
        "from keras.applications.vgg16 import VGG16\n",
        "from keras.applications.vgg16 import preprocess_input\n",
        "from keras.preprocessing import image\n",
        "from keras.preprocessing.image import ImageDataGenerator\n",
        "from keras.models import Sequential\n",
        "import numpy as np\n",
        "from glob import glob\n",
        "import matplotlib.pyplot as plt"
      ]
    },
    {
      "cell_type": "code",
      "execution_count": null,
      "metadata": {
        "id": "c2WE1niU_w05"
      },
      "outputs": [],
      "source": [
        "# from google.colab import drive\n",
        "# drive.mount('/content/gdrive')"
      ]
    },
    {
      "cell_type": "code",
      "execution_count": null,
      "metadata": {
        "id": "CBRBzaK-_45M"
      },
      "outputs": [],
      "source": [
        "# re-size all the images to this\n",
        "IMAGE_SIZE = [224, 224]\n",
        "\n",
        "train_path = 'dataset/train'\n",
        "valid_path = 'dataset/val'"
      ]
    },
    {
      "cell_type": "code",
      "execution_count": null,
      "metadata": {
        "colab": {
          "base_uri": "https://localhost:8080/"
        },
        "id": "sO_afzgkALo0",
        "outputId": "69d4ce8c-4a28-464d-da41-7b87bf85b5ae"
      },
      "outputs": [
        {
          "name": "stdout",
          "output_type": "stream",
          "text": [
            "Downloading data from https://storage.googleapis.com/tensorflow/keras-applications/vgg16/vgg16_weights_tf_dim_ordering_tf_kernels_notop.h5\n",
            "58889256/58889256 [==============================] - 30s 1us/step\n"
          ]
        }
      ],
      "source": [
        "# add preprocessing layer to the front of VGG\n",
        "vgg = VGG16(input_shape=IMAGE_SIZE + [3], weights='imagenet', include_top=False)\n",
        "\n",
        "# don't train existing weights\n",
        "for layer in vgg.layers:\n",
        "  layer.trainable = False\n",
        "  \n"
      ]
    },
    {
      "cell_type": "code",
      "execution_count": null,
      "metadata": {
        "colab": {
          "base_uri": "https://localhost:8080/"
        },
        "id": "KWPdH8oeAPTP",
        "outputId": "a613a705-f266-4d8b-ff67-3eb7a12e7065"
      },
      "outputs": [
        {
          "data": {
            "text/plain": [
              "5"
            ]
          },
          "execution_count": 5,
          "metadata": {},
          "output_type": "execute_result"
        }
      ],
      "source": [
        " # useful for getting number of classes\n",
        "folders = glob('dataset/train/*')\n",
        "folders\n",
        "len(folders)"
      ]
    },
    {
      "cell_type": "code",
      "execution_count": null,
      "metadata": {
        "id": "r16b3wwYAazu"
      },
      "outputs": [],
      "source": [
        "# our layers - you can add more if you want\n",
        "x = Flatten()(vgg.output)\n",
        "# x = Dense(1000, activation='relu')(x)\n",
        "prediction = Dense(len(folders), activation='softmax')(x)\n"
      ]
    },
    {
      "cell_type": "code",
      "execution_count": null,
      "metadata": {
        "colab": {
          "base_uri": "https://localhost:8080/"
        },
        "id": "5c_jQdn4AeC6",
        "outputId": "1d404032-bdbf-448c-e148-e7d705c4abcf"
      },
      "outputs": [
        {
          "name": "stdout",
          "output_type": "stream",
          "text": [
            "Model: \"model\"\n",
            "_________________________________________________________________\n",
            " Layer (type)                Output Shape              Param #   \n",
            "=================================================================\n",
            " input_1 (InputLayer)        [(None, 224, 224, 3)]     0         \n",
            "                                                                 \n",
            " block1_conv1 (Conv2D)       (None, 224, 224, 64)      1792      \n",
            "                                                                 \n",
            " block1_conv2 (Conv2D)       (None, 224, 224, 64)      36928     \n",
            "                                                                 \n",
            " block1_pool (MaxPooling2D)  (None, 112, 112, 64)      0         \n",
            "                                                                 \n",
            " block2_conv1 (Conv2D)       (None, 112, 112, 128)     73856     \n",
            "                                                                 \n",
            " block2_conv2 (Conv2D)       (None, 112, 112, 128)     147584    \n",
            "                                                                 \n",
            " block2_pool (MaxPooling2D)  (None, 56, 56, 128)       0         \n",
            "                                                                 \n",
            " block3_conv1 (Conv2D)       (None, 56, 56, 256)       295168    \n",
            "                                                                 \n",
            " block3_conv2 (Conv2D)       (None, 56, 56, 256)       590080    \n",
            "                                                                 \n",
            " block3_conv3 (Conv2D)       (None, 56, 56, 256)       590080    \n",
            "                                                                 \n",
            " block3_pool (MaxPooling2D)  (None, 28, 28, 256)       0         \n",
            "                                                                 \n",
            " block4_conv1 (Conv2D)       (None, 28, 28, 512)       1180160   \n",
            "                                                                 \n",
            " block4_conv2 (Conv2D)       (None, 28, 28, 512)       2359808   \n",
            "                                                                 \n",
            " block4_conv3 (Conv2D)       (None, 28, 28, 512)       2359808   \n",
            "                                                                 \n",
            " block4_pool (MaxPooling2D)  (None, 14, 14, 512)       0         \n",
            "                                                                 \n",
            " block5_conv1 (Conv2D)       (None, 14, 14, 512)       2359808   \n",
            "                                                                 \n",
            " block5_conv2 (Conv2D)       (None, 14, 14, 512)       2359808   \n",
            "                                                                 \n",
            " block5_conv3 (Conv2D)       (None, 14, 14, 512)       2359808   \n",
            "                                                                 \n",
            " block5_pool (MaxPooling2D)  (None, 7, 7, 512)         0         \n",
            "                                                                 \n",
            " flatten (Flatten)           (None, 25088)             0         \n",
            "                                                                 \n",
            " dense (Dense)               (None, 5)                 125445    \n",
            "                                                                 \n",
            "=================================================================\n",
            "Total params: 14,840,133\n",
            "Trainable params: 125,445\n",
            "Non-trainable params: 14,714,688\n",
            "_________________________________________________________________\n"
          ]
        }
      ],
      "source": [
        "# create a model object\n",
        "model = Model(inputs=vgg.input, outputs=prediction)\n",
        "\n",
        "# view the structure of the model\n",
        "model.summary()\n"
      ]
    },
    {
      "cell_type": "code",
      "execution_count": null,
      "metadata": {
        "id": "NhBOsZPfAgY5"
      },
      "outputs": [],
      "source": [
        "# tell the model what cost and optimization method to use\n",
        "model.compile(\n",
        "  loss='categorical_crossentropy',\n",
        "  optimizer='adam',\n",
        "  metrics=['accuracy']\n",
        ")"
      ]
    },
    {
      "cell_type": "code",
      "execution_count": null,
      "metadata": {
        "colab": {
          "base_uri": "https://localhost:8080/",
          "height": 87
        },
        "id": "0Ol_PLNzAlQx",
        "outputId": "506fe99b-c3c2-4368-9869-d29ec92dac95"
      },
      "outputs": [
        {
          "name": "stdout",
          "output_type": "stream",
          "text": [
            "Found 93 images belonging to 5 classes.\n",
            "Found 25 images belonging to 5 classes.\n"
          ]
        },
        {
          "data": {
            "text/plain": [
              "'r=model.fit_generator(training_set,\\n                         samples_per_epoch = 8000,\\n                         nb_epoch = 5,\\n                         validation_data = test_set,\\n                         nb_val_samples = 2000)'"
            ]
          },
          "execution_count": 9,
          "metadata": {},
          "output_type": "execute_result"
        }
      ],
      "source": [
        "from keras.preprocessing.image import ImageDataGenerator\n",
        "\n",
        "train_datagen = ImageDataGenerator(rescale = 1./255,\n",
        "                                   shear_range = 0.2,\n",
        "                                   zoom_range = 0.2,\n",
        "                                   horizontal_flip = True)\n",
        "\n",
        "test_datagen = ImageDataGenerator(rescale = 1./255)\n",
        "\n",
        "training_set = train_datagen.flow_from_directory('dataset/train',\n",
        "                                                 target_size = (224, 224),\n",
        "                                                 batch_size = 32,\n",
        "                                                 class_mode = 'categorical')\n",
        "\n",
        "test_set = test_datagen.flow_from_directory('dataset/val',\n",
        "                                            target_size = (224, 224),\n",
        "                                            batch_size = 32,\n",
        "                                            class_mode = 'categorical')\n",
        "\n",
        "'''r=model.fit_generator(training_set,\n",
        "                         samples_per_epoch = 8000,\n",
        "                         nb_epoch = 5,\n",
        "                         validation_data = test_set,\n",
        "                         nb_val_samples = 2000)'''"
      ]
    },
    {
      "cell_type": "code",
      "execution_count": null,
      "metadata": {
        "colab": {
          "base_uri": "https://localhost:8080/"
        },
        "id": "QfgsEx0hA1TV",
        "outputId": "aa8fafd3-a2fc-497c-e6b8-881db0ccef64"
      },
      "outputs": [
        {
          "name": "stderr",
          "output_type": "stream",
          "text": [
            "C:\\Users\\rohit\\AppData\\Local\\Temp\\ipykernel_16796\\366216867.py:2: UserWarning: `Model.fit_generator` is deprecated and will be removed in a future version. Please use `Model.fit`, which supports generators.\n",
            "  r = model.fit_generator(\n"
          ]
        },
        {
          "name": "stdout",
          "output_type": "stream",
          "text": [
            "Epoch 1/50\n",
            "3/3 [==============================] - 12s 4s/step - loss: 2.9677 - accuracy: 0.1505 - val_loss: 1.7585 - val_accuracy: 0.5200\n",
            "Epoch 2/50\n",
            "3/3 [==============================] - 10s 4s/step - loss: 1.6367 - accuracy: 0.4194 - val_loss: 1.9749 - val_accuracy: 0.2400\n",
            "Epoch 3/50\n",
            "3/3 [==============================] - 10s 4s/step - loss: 1.4710 - accuracy: 0.4086 - val_loss: 1.4669 - val_accuracy: 0.4400\n",
            "Epoch 4/50\n",
            "3/3 [==============================] - 10s 4s/step - loss: 0.7059 - accuracy: 0.6989 - val_loss: 1.0657 - val_accuracy: 0.6000\n",
            "Epoch 5/50\n",
            "3/3 [==============================] - 11s 4s/step - loss: 0.7301 - accuracy: 0.7312 - val_loss: 0.9912 - val_accuracy: 0.6800\n",
            "Epoch 6/50\n",
            "3/3 [==============================] - 10s 4s/step - loss: 0.3742 - accuracy: 0.8602 - val_loss: 0.6671 - val_accuracy: 0.7600\n",
            "Epoch 7/50\n",
            "3/3 [==============================] - 10s 4s/step - loss: 0.2679 - accuracy: 0.9032 - val_loss: 0.6471 - val_accuracy: 0.7600\n",
            "Epoch 8/50\n",
            "3/3 [==============================] - 10s 4s/step - loss: 0.2148 - accuracy: 0.9355 - val_loss: 0.4469 - val_accuracy: 0.8400\n",
            "Epoch 9/50\n",
            "3/3 [==============================] - 10s 4s/step - loss: 0.1356 - accuracy: 0.9570 - val_loss: 0.4504 - val_accuracy: 0.9200\n",
            "Epoch 10/50\n",
            "3/3 [==============================] - 10s 4s/step - loss: 0.0848 - accuracy: 1.0000 - val_loss: 0.5889 - val_accuracy: 0.8000\n",
            "Epoch 11/50\n",
            "3/3 [==============================] - 10s 3s/step - loss: 0.0948 - accuracy: 0.9785 - val_loss: 0.5252 - val_accuracy: 0.8000\n",
            "Epoch 12/50\n",
            "3/3 [==============================] - 10s 4s/step - loss: 0.0705 - accuracy: 0.9892 - val_loss: 0.3903 - val_accuracy: 0.8800\n",
            "Epoch 13/50\n",
            "3/3 [==============================] - 10s 3s/step - loss: 0.0480 - accuracy: 1.0000 - val_loss: 0.3614 - val_accuracy: 0.9200\n",
            "Epoch 14/50\n",
            "3/3 [==============================] - 10s 3s/step - loss: 0.0441 - accuracy: 1.0000 - val_loss: 0.3621 - val_accuracy: 0.8800\n",
            "Epoch 15/50\n",
            "3/3 [==============================] - 10s 3s/step - loss: 0.0439 - accuracy: 1.0000 - val_loss: 0.3477 - val_accuracy: 0.8800\n",
            "Epoch 16/50\n",
            "3/3 [==============================] - 10s 3s/step - loss: 0.0259 - accuracy: 1.0000 - val_loss: 0.3393 - val_accuracy: 0.9200\n",
            "Epoch 17/50\n",
            "3/3 [==============================] - 10s 3s/step - loss: 0.0203 - accuracy: 1.0000 - val_loss: 0.3390 - val_accuracy: 0.8800\n",
            "Epoch 18/50\n",
            "3/3 [==============================] - 10s 3s/step - loss: 0.0233 - accuracy: 1.0000 - val_loss: 0.3512 - val_accuracy: 0.9200\n",
            "Epoch 19/50\n",
            "3/3 [==============================] - 10s 3s/step - loss: 0.0167 - accuracy: 1.0000 - val_loss: 0.3612 - val_accuracy: 0.9600\n",
            "Epoch 20/50\n",
            "3/3 [==============================] - 10s 4s/step - loss: 0.0210 - accuracy: 1.0000 - val_loss: 0.3591 - val_accuracy: 0.9200\n",
            "Epoch 21/50\n",
            "3/3 [==============================] - 10s 4s/step - loss: 0.0201 - accuracy: 1.0000 - val_loss: 0.3545 - val_accuracy: 0.9200\n",
            "Epoch 22/50\n",
            "3/3 [==============================] - 10s 3s/step - loss: 0.0206 - accuracy: 1.0000 - val_loss: 0.3394 - val_accuracy: 0.9600\n",
            "Epoch 23/50\n",
            "3/3 [==============================] - 10s 3s/step - loss: 0.0121 - accuracy: 1.0000 - val_loss: 0.3232 - val_accuracy: 0.9600\n",
            "Epoch 24/50\n",
            "3/3 [==============================] - 10s 4s/step - loss: 0.0163 - accuracy: 1.0000 - val_loss: 0.3062 - val_accuracy: 0.9200\n",
            "Epoch 25/50\n",
            "3/3 [==============================] - 10s 3s/step - loss: 0.0130 - accuracy: 1.0000 - val_loss: 0.2946 - val_accuracy: 0.8800\n",
            "Epoch 26/50\n",
            "3/3 [==============================] - 10s 4s/step - loss: 0.0142 - accuracy: 1.0000 - val_loss: 0.2875 - val_accuracy: 0.8800\n",
            "Epoch 27/50\n",
            "3/3 [==============================] - 10s 3s/step - loss: 0.0115 - accuracy: 1.0000 - val_loss: 0.2822 - val_accuracy: 0.9600\n",
            "Epoch 28/50\n",
            "3/3 [==============================] - 10s 4s/step - loss: 0.0123 - accuracy: 1.0000 - val_loss: 0.2777 - val_accuracy: 0.9600\n",
            "Epoch 29/50\n",
            "3/3 [==============================] - 10s 3s/step - loss: 0.0112 - accuracy: 1.0000 - val_loss: 0.2768 - val_accuracy: 0.9600\n",
            "Epoch 30/50\n",
            "3/3 [==============================] - 11s 4s/step - loss: 0.0113 - accuracy: 1.0000 - val_loss: 0.2747 - val_accuracy: 0.9600\n",
            "Epoch 31/50\n",
            "3/3 [==============================] - 11s 4s/step - loss: 0.0105 - accuracy: 1.0000 - val_loss: 0.2751 - val_accuracy: 0.9600\n",
            "Epoch 32/50\n",
            "3/3 [==============================] - 10s 4s/step - loss: 0.0098 - accuracy: 1.0000 - val_loss: 0.2792 - val_accuracy: 0.9600\n",
            "Epoch 33/50\n",
            "3/3 [==============================] - 10s 4s/step - loss: 0.0103 - accuracy: 1.0000 - val_loss: 0.2786 - val_accuracy: 1.0000\n",
            "Epoch 34/50\n",
            "3/3 [==============================] - 10s 4s/step - loss: 0.0105 - accuracy: 1.0000 - val_loss: 0.2766 - val_accuracy: 1.0000\n",
            "Epoch 35/50\n",
            "3/3 [==============================] - 10s 4s/step - loss: 0.0089 - accuracy: 1.0000 - val_loss: 0.2753 - val_accuracy: 0.9600\n",
            "Epoch 36/50\n",
            "3/3 [==============================] - 10s 3s/step - loss: 0.0112 - accuracy: 1.0000 - val_loss: 0.2722 - val_accuracy: 0.9600\n",
            "Epoch 37/50\n",
            "3/3 [==============================] - 10s 3s/step - loss: 0.0094 - accuracy: 1.0000 - val_loss: 0.2691 - val_accuracy: 0.9600\n",
            "Epoch 38/50\n",
            "3/3 [==============================] - 11s 4s/step - loss: 0.0081 - accuracy: 1.0000 - val_loss: 0.2697 - val_accuracy: 0.9600\n",
            "Epoch 39/50\n",
            "3/3 [==============================] - 11s 4s/step - loss: 0.0084 - accuracy: 1.0000 - val_loss: 0.2707 - val_accuracy: 0.9600\n",
            "Epoch 40/50\n",
            "3/3 [==============================] - 11s 4s/step - loss: 0.0087 - accuracy: 1.0000 - val_loss: 0.2722 - val_accuracy: 0.9600\n",
            "Epoch 41/50\n",
            "3/3 [==============================] - 10s 4s/step - loss: 0.0087 - accuracy: 1.0000 - val_loss: 0.2742 - val_accuracy: 0.9600\n",
            "Epoch 42/50\n",
            "3/3 [==============================] - 11s 4s/step - loss: 0.0132 - accuracy: 1.0000 - val_loss: 0.2767 - val_accuracy: 0.9600\n",
            "Epoch 43/50\n",
            "3/3 [==============================] - 10s 4s/step - loss: 0.0089 - accuracy: 1.0000 - val_loss: 0.2839 - val_accuracy: 0.9600\n",
            "Epoch 44/50\n",
            "3/3 [==============================] - 10s 4s/step - loss: 0.0093 - accuracy: 1.0000 - val_loss: 0.2877 - val_accuracy: 0.9600\n",
            "Epoch 45/50\n",
            "3/3 [==============================] - 11s 4s/step - loss: 0.0075 - accuracy: 1.0000 - val_loss: 0.2875 - val_accuracy: 0.9600\n",
            "Epoch 46/50\n",
            "3/3 [==============================] - 10s 4s/step - loss: 0.0080 - accuracy: 1.0000 - val_loss: 0.2833 - val_accuracy: 0.9600\n",
            "Epoch 47/50\n",
            "3/3 [==============================] - 10s 4s/step - loss: 0.0089 - accuracy: 1.0000 - val_loss: 0.2806 - val_accuracy: 0.9600\n",
            "Epoch 48/50\n",
            "3/3 [==============================] - 10s 4s/step - loss: 0.0068 - accuracy: 1.0000 - val_loss: 0.2791 - val_accuracy: 0.9200\n",
            "Epoch 49/50\n",
            "3/3 [==============================] - 10s 3s/step - loss: 0.0069 - accuracy: 1.0000 - val_loss: 0.2739 - val_accuracy: 0.9200\n",
            "Epoch 50/50\n",
            "3/3 [==============================] - 10s 3s/step - loss: 0.0081 - accuracy: 1.0000 - val_loss: 0.2703 - val_accuracy: 0.9200\n"
          ]
        }
      ],
      "source": [
        "# fit the model\n",
        "r = model.fit_generator(\n",
        "  training_set,\n",
        "  validation_data=test_set,\n",
        "  epochs=50,\n",
        "  steps_per_epoch=len(training_set),\n",
        "  validation_steps=len(test_set)\n",
        ")"
      ]
    },
    {
      "cell_type": "code",
      "execution_count": null,
      "metadata": {
        "colab": {
          "base_uri": "https://localhost:8080/",
          "height": 282
        },
        "id": "NB5kj9lVBLpT",
        "outputId": "ba63d88d-b82f-43d2-cd21-d3e276c9bbcb"
      },
      "outputs": [
        {
          "data": {
            "image/png": "[encoded data removed]",
            "text/plain": [
              "<Figure size 432x288 with 1 Axes>"
            ]
          },
          "metadata": {
            "needs_background": "light"
          },
          "output_type": "display_data"
        },
        {
          "data": {
            "text/plain": [
              "<Figure size 432x288 with 0 Axes>"
            ]
          },
          "metadata": {},
          "output_type": "display_data"
        }
      ],
      "source": [
        "# loss\n",
        "plt.plot(r.history['loss'], label='train loss')\n",
        "plt.plot(r.history['val_loss'], label='val loss')\n",
        "plt.legend()\n",
        "plt.show()\n",
        "plt.savefig('LossVal_loss')\n",
        "\n"
      ]
    },
    {
      "cell_type": "code",
      "execution_count": null,
      "metadata": {
        "colab": {
          "base_uri": "https://localhost:8080/",
          "height": 285
        },
        "id": "8OpcZbgRBM4n",
        "outputId": "ad0ef977-18b4-4fee-9034-a84cec53d969"
      },
      "outputs": [
        {
          "data": {
            "image/png": "[encoded data removed]",
            "text/plain": [
              "<Figure size 432x288 with 1 Axes>"
            ]
          },
          "metadata": {
            "needs_background": "light"
          },
          "output_type": "display_data"
        },
        {
          "data": {
            "text/plain": [
              "<Figure size 432x288 with 0 Axes>"
            ]
          },
          "metadata": {},
          "output_type": "display_data"
        }
      ],
      "source": [
        "# accuracies\n",
        "plt.plot(r.history['accuracy'], label='train acc')\n",
        "plt.plot(r.history['val_accuracy'], label='val acc')\n",
        "plt.legend()\n",
        "plt.show()\n",
        "plt.savefig('AccVal_acc')\n",
        "\n"
      ]
    },
    {
      "cell_type": "code",
      "execution_count": null,
      "metadata": {
        "id": "vPOiAZRpBOMH"
      },
      "outputs": [],
      "source": [
        "import tensorflow as tf\n",
        "\n",
        "from keras.models import load_model\n",
        "\n",
        "model.save('facefeatures_new_model.h5')"
      ]
    },
    {
      "cell_type": "code",
      "execution_count": null,
      "metadata": {
        "id": "po7TU8XjriK4"
      },
      "outputs": [],
      "source": [
        ""
      ]
    }
  ],
  "metadata": {
    "colab": {
      "name": "Transfer_Learning_Using_VGG16.ipynb",
      "provenance": [],
      "include_colab_link": true
    },
    "kernelspec": {
      "display_name": "Python 3 (ipykernel)",
      "language": "python",
      "name": "python3"
    },
    "language_info": {
      "codemirror_mode": {
        "name": "ipython",
        "version": 3
      },
      "file_extension": ".py",
      "mimetype": "text/x-python",
      "name": "python",
      "nbconvert_exporter": "python",
      "pygments_lexer": "ipython3",
      "version": "3.10.4"
    }
  },
  "nbformat": 4,
  "nbformat_minor": 0
}